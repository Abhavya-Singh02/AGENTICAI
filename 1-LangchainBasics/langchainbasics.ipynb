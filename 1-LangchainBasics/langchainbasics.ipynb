{
 "cells": [
  {
   "cell_type": "code",
   "execution_count": 28,
   "id": "b627dfd7",
   "metadata": {},
   "outputs": [],
   "source": [
    "import os, ssl, certifi\n",
    "\n",
    "# Force all libs (httpx/requests/groq) to use certifi bundle\n",
    "os.environ[\"SSL_CERT_FILE\"] = certifi.where()\n",
    "os.environ[\"REQUESTS_CA_BUNDLE\"] = certifi.where()\n",
    "ssl._create_default_https_context = lambda: ssl.create_default_context(cafile=certifi.where())\n"
   ]
  },
  {
   "cell_type": "code",
   "execution_count": 29,
   "id": "d387e56a",
   "metadata": {},
   "outputs": [
    {
     "name": "stdout",
     "output_type": "stream",
     "text": [
      "Certifi bundle: c:\\Users\\abhav\\OneDrive\\Desktop\\AgenticAi\\.venv\\Lib\\site-packages\\certifi\\cacert.pem\n",
      "Google test: 200\n"
     ]
    }
   ],
   "source": [
    "import requests, certifi, os\n",
    "\n",
    "os.environ[\"SSL_CERT_FILE\"] = certifi.where()\n",
    "os.environ[\"REQUESTS_CA_BUNDLE\"] = certifi.where()\n",
    "\n",
    "print(\"Certifi bundle:\", certifi.where())\n",
    "print(\"Google test:\", requests.get(\"https://www.google.com\").status_code)\n"
   ]
  },
  {
   "cell_type": "code",
   "execution_count": 30,
   "id": "eab2bdd3",
   "metadata": {},
   "outputs": [
    {
     "name": "stdout",
     "output_type": "stream",
     "text": [
      "Model ready ✅ client=<groq.resources.chat.completions.Completions object at 0x00000167710DD010> async_client=<groq.resources.chat.completions.AsyncCompletions object at 0x00000167710DDBE0> model_name='llama-3.1-8b-instant' model_kwargs={} groq_api_key=SecretStr('**********')\n"
     ]
    }
   ],
   "source": [
    "from langchain_groq import ChatGroq\n",
    "from dotenv import load_dotenv\n",
    "import os\n",
    "\n",
    "load_dotenv()\n",
    "\n",
    "model = ChatGroq(\n",
    "    model=\"llama-3.1-8b-instant\",\n",
    "    api_key=os.getenv(\"GROQ_API_KEY\"),\n",
    ")\n",
    "\n",
    "print(\"Model ready ✅\", model)\n"
   ]
  },
  {
   "cell_type": "markdown",
   "id": "dcb07a5d",
   "metadata": {},
   "source": [
    "### Example 1: Simple LLM call with streaming"
   ]
  },
  {
   "cell_type": "code",
   "execution_count": 31,
   "id": "b03f7ecb",
   "metadata": {},
   "outputs": [],
   "source": [
    "from langchain.chat_models import init_chat_model\n",
    "from langchain_core.messages import HumanMessage,SystemMessage"
   ]
  },
  {
   "cell_type": "code",
   "execution_count": 32,
   "id": "5ca6c81c",
   "metadata": {},
   "outputs": [
    {
     "name": "stdout",
     "output_type": "stream",
     "text": [
      "client=<groq.resources.chat.completions.Completions object at 0x0000016773674550> async_client=<groq.resources.chat.completions.AsyncCompletions object at 0x0000016773674F50> model_name='llama-3.1-8b-instant' model_kwargs={} groq_api_key=SecretStr('**********')\n"
     ]
    }
   ],
   "source": [
    "from langchain_groq import ChatGroq\n",
    "\n",
    "model = ChatGroq(\n",
    "    model=\"llama-3.1-8b-instant\",\n",
    "    api_key=os.getenv(\"GROQ_API_KEY\")\n",
    ")\n",
    "print(model)\n"
   ]
  },
  {
   "cell_type": "code",
   "execution_count": 33,
   "id": "6816c440",
   "metadata": {},
   "outputs": [],
   "source": [
    "from langchain_core.messages import HumanMessage, SystemMessage"
   ]
  },
  {
   "cell_type": "code",
   "execution_count": 35,
   "id": "20bf57f0",
   "metadata": {},
   "outputs": [],
   "source": [
    "# create message \n",
    "messages = [\n",
    "    SystemMessage(\"You are a helpful AI assistant\"),\n",
    "    HumanMessage(\"What eare the top 2 benefit using Langchain\")\n",
    "]"
   ]
  },
  {
   "cell_type": "code",
   "execution_count": 36,
   "id": "9aba8cc7",
   "metadata": {},
   "outputs": [
    {
     "data": {
      "text/plain": [
       "AIMessage(content=\"Langchain is an open-source framework for building conversational AI models. Based on my knowledge, here are the top 2 benefits of using Langchain:\\n\\n1. **Improved Conversational Flow**: Langchain allows developers to create more natural-sounding conversations by seamlessly integrating multiple AI models and knowledge sources. This enables Langchain to provide more accurate and context-aware responses, making conversations feel more human-like.\\n\\n2. **Increased Knowledge Retrieval and Reasoning**: Langchain's ability to leverage multiple knowledge sources and AI models enables it to perform more complex tasks, such as question answering, text summarization, and even creative writing. By combining the strengths of different models and sources, Langchain can provide more accurate and informative responses to a wide range of questions and prompts.\\n\\nThese benefits make Langchain a valuable tool for developers and researchers working on conversational AI projects.\", additional_kwargs={}, response_metadata={'token_usage': {'completion_tokens': 173, 'prompt_tokens': 52, 'total_tokens': 225, 'completion_time': 0.409328753, 'prompt_time': 0.015844447, 'queue_time': 0.052361663, 'total_time': 0.4251732}, 'model_name': 'llama-3.1-8b-instant', 'system_fingerprint': 'fp_46fc01befd', 'service_tier': 'on_demand', 'finish_reason': 'stop', 'logprobs': None}, id='run--80658e8a-3e3a-4b7c-b791-6f2d5e7f358b-0', usage_metadata={'input_tokens': 52, 'output_tokens': 173, 'total_tokens': 225})"
      ]
     },
     "execution_count": 36,
     "metadata": {},
     "output_type": "execute_result"
    }
   ],
   "source": [
    "# invoke the model\n",
    "response =  model.invoke(messages)\n",
    "response"
   ]
  },
  {
   "cell_type": "code",
   "execution_count": 37,
   "id": "56d7483a",
   "metadata": {},
   "outputs": [
    {
     "name": "stdout",
     "output_type": "stream",
     "text": [
      "Langchain is an open-source framework for building conversational AI models. Based on my knowledge, here are the top 2 benefits of using Langchain:\n",
      "\n",
      "1. **Improved Conversational Flow**: Langchain allows developers to create more natural-sounding conversations by seamlessly integrating multiple AI models and knowledge sources. This enables Langchain to provide more accurate and context-aware responses, making conversations feel more human-like.\n",
      "\n",
      "2. **Increased Knowledge Retrieval and Reasoning**: Langchain's ability to leverage multiple knowledge sources and AI models enables it to perform more complex tasks, such as question answering, text summarization, and even creative writing. By combining the strengths of different models and sources, Langchain can provide more accurate and informative responses to a wide range of questions and prompts.\n",
      "\n",
      "These benefits make Langchain a valuable tool for developers and researchers working on conversational AI projects.\n"
     ]
    }
   ],
   "source": [
    "print(response.content)"
   ]
  },
  {
   "cell_type": "code",
   "execution_count": 41,
   "id": "5970f3c0",
   "metadata": {},
   "outputs": [
    {
     "data": {
      "text/plain": [
       "AIMessage(content='I couldn\\'t find any specific information on \"lanchain.\" However, I can provide information on \"Lanchain,\" which appears to be a decentralized identity verification and authentication project. If that\\'s the case, here are two potential benefits of Lanchain:\\n\\n1. **Improved Data Security**: Lanchain is built on blockchain technology, which provides a secure and decentralized way to store and manage identity data. This helps prevent data breaches and unauthorized access, ensuring that users\\' personal information remains safe.\\n\\n2. **Interoperability**: Lanchain\\'s goal is to provide a common standard for identity verification across different platforms and industries. By doing so, it enables seamless and secure identity verification, reducing the need for multiple login processes and increasing the overall user experience.\\n\\nPlease note that these benefits are speculative and based on general assumptions, as I couldn\\'t find any concrete information on Lanchain. If you have more specific information about Lanchain, I\\'d be happy to help further.', additional_kwargs={}, response_metadata={'token_usage': {'completion_tokens': 200, 'prompt_tokens': 47, 'total_tokens': 247, 'completion_time': 0.341589198, 'prompt_time': 0.009669811, 'queue_time': 0.055008129, 'total_time': 0.351259009}, 'model_name': 'llama-3.1-8b-instant', 'system_fingerprint': 'fp_55d70a61e4', 'service_tier': 'on_demand', 'finish_reason': 'stop', 'logprobs': None}, id='run--83c5b65a-3de8-4566-9fba-91ed43f24a8e-0', usage_metadata={'input_tokens': 47, 'output_tokens': 200, 'total_tokens': 247})"
      ]
     },
     "execution_count": 41,
     "metadata": {},
     "output_type": "execute_result"
    }
   ],
   "source": [
    "model.invoke([HumanMessage(\"What are the top 2 benefits of lanchain?\")])"
   ]
  },
  {
   "cell_type": "code",
   "execution_count": 43,
   "id": "91fff376",
   "metadata": {},
   "outputs": [
    {
     "name": "stdout",
     "output_type": "stream",
     "text": [
      "LangChain is an open-source framework for building large language models. Some of the key benefits of using LangChain include:\n",
      "\n",
      "1. **Efficient Model Integration**: LangChain allows developers to integrate multiple large language models in a seamless manner. This enables developers to combine the strengths of different models to build more robust and accurate applications. By integrating multiple models, developers can leverage the individual strengths of each model to achieve better performance and accuracy in their applications.\n",
      "\n",
      "2. **Flexibility and Customization**: LangChain provides a flexible framework that enables developers to customize and fine-tune their models to suit specific use cases and applications. This flexibility allows developers to create tailored solutions that meet the unique needs of their projects. Additionally, LangChain's modular architecture makes it easy to swap out different models or components as needed, allowing developers to quickly adapt to changing requirements and priorities.\n",
      "\n",
      "These benefits make LangChain a powerful tool for developers looking to build sophisticated applications that leverage the capabilities of large language models."
     ]
    }
   ],
   "source": [
    "## streaming example\n",
    "for chunk in model.stream(messages):\n",
    "    print(chunk.content, end = \"\", flush=True)"
   ]
  },
  {
   "cell_type": "markdown",
   "id": "25f7da40",
   "metadata": {},
   "source": [
    "## Dynamic Prompt Template"
   ]
  },
  {
   "cell_type": "code",
   "execution_count": 45,
   "id": "6c1d57f2",
   "metadata": {},
   "outputs": [],
   "source": [
    "from langchain_core.prompts import ChatPromptTemplate\n",
    "\n",
    "## create translation app \n",
    "translation_template = ChatPromptTemplate.from_messages([\n",
    "    (\"system\",\"You are a professional translator. Translate the following text {text} to {source_language} to {target_language}\"),\n",
    "    (\"user\",\"{text}\")\n",
    "])\n",
    "\n",
    "# using the template\n",
    "prompt = translation_template.invoke({\n",
    "    \"source_language\":\"English\",\n",
    "    \"target_language\":\"French\",\n",
    "    \"text\":\"Langchain makes building AI application incredible easy!\"\n",
    "})"
   ]
  },
  {
   "cell_type": "code",
   "execution_count": 46,
   "id": "87ed0432",
   "metadata": {},
   "outputs": [
    {
     "data": {
      "text/plain": [
       "ChatPromptValue(messages=[SystemMessage(content='You are a professional translator. Translate the following text Langchain makes building AI application incredible easy! to English to French', additional_kwargs={}, response_metadata={}), HumanMessage(content='Langchain makes building AI application incredible easy!', additional_kwargs={}, response_metadata={})])"
      ]
     },
     "execution_count": 46,
     "metadata": {},
     "output_type": "execute_result"
    }
   ],
   "source": [
    "prompt"
   ]
  },
  {
   "cell_type": "code",
   "execution_count": 48,
   "id": "04c86a8a",
   "metadata": {},
   "outputs": [
    {
     "data": {
      "text/plain": [
       "\"Langchain rend la création d'applications d'intelligence artificielle incroyablement facile.\""
      ]
     },
     "execution_count": 48,
     "metadata": {},
     "output_type": "execute_result"
    }
   ],
   "source": [
    "translated_response = model.invoke(prompt)\n",
    "translated_response.content"
   ]
  },
  {
   "cell_type": "markdown",
   "id": "a3b8ba7d",
   "metadata": {},
   "source": [
    "## Building our first chain\n"
   ]
  },
  {
   "cell_type": "code",
   "execution_count": 57,
   "id": "6fd363c9",
   "metadata": {},
   "outputs": [],
   "source": [
    "from langchain_core.output_parsers import StrOutputParser\n",
    "from langchain_core.runnables import RunnablePassthrough, RunnableLambda\n",
    "\n",
    "def create_story_chain():\n",
    "    # Template for story generation\n",
    "    story_prompt = ChatPromptTemplate.from_messages([\n",
    "        ('system','You are a creative storyteller. Write a short and engaging story based on a given theme, character and settings'),\n",
    "        ('user',\"Theme: {theme}\\n Main character: {character}\\n Setting:{setting}\")\n",
    "    ])\n",
    "\n",
    "    \n",
    "    # template  for story analysis \n",
    "    analysis_prompt = ChatPromptTemplate.from_messages([\n",
    "        ('system',\"You are a literary critic. Analyze tthe following story and provide insights.\"),\n",
    "        ('user',\"{story}\")\n",
    "    ])\n",
    "\n",
    "    # create a function to pass the story to analysis\n",
    "    def analyze_story(story_text):\n",
    "        return {'story':story_text}\n",
    "\n",
    "\n",
    "    story_chain = (story_prompt | model | StrOutputParser())\n",
    "    analysis_chain = (\n",
    "        story_chain\n",
    "        | RunnableLambda(analyze_story )\n",
    "                      | analysis_prompt | model | StrOutputParser()\n",
    "                      )\n",
    "    \n",
    "    return analysis_chain"
   ]
  },
  {
   "cell_type": "code",
   "execution_count": 58,
   "id": "34a0e3f9",
   "metadata": {},
   "outputs": [
    {
     "data": {
      "text/plain": [
       "ChatPromptTemplate(input_variables=['character', 'setting', 'theme'], input_types={}, partial_variables={}, messages=[SystemMessagePromptTemplate(prompt=PromptTemplate(input_variables=[], input_types={}, partial_variables={}, template='You are a creative storyteller. Write a short and engaging story based on a given theme, character and settings'), additional_kwargs={}), HumanMessagePromptTemplate(prompt=PromptTemplate(input_variables=['character', 'setting', 'theme'], input_types={}, partial_variables={}, template='Theme: {theme}\\n Main character: {character}\\n Setting:{setting}'), additional_kwargs={})])\n",
       "| ChatGroq(client=<groq.resources.chat.completions.Completions object at 0x0000016773674550>, async_client=<groq.resources.chat.completions.AsyncCompletions object at 0x0000016773674F50>, model_name='llama-3.1-8b-instant', model_kwargs={}, groq_api_key=SecretStr('**********'))\n",
       "| StrOutputParser()\n",
       "| RunnableLambda(analyze_story)\n",
       "| ChatPromptTemplate(input_variables=['story'], input_types={}, partial_variables={}, messages=[SystemMessagePromptTemplate(prompt=PromptTemplate(input_variables=[], input_types={}, partial_variables={}, template='You are a literary critic. Analyze tthe following story and provide insights.'), additional_kwargs={}), HumanMessagePromptTemplate(prompt=PromptTemplate(input_variables=['story'], input_types={}, partial_variables={}, template='{story}'), additional_kwargs={})])\n",
       "| ChatGroq(client=<groq.resources.chat.completions.Completions object at 0x0000016773674550>, async_client=<groq.resources.chat.completions.AsyncCompletions object at 0x0000016773674F50>, model_name='llama-3.1-8b-instant', model_kwargs={}, groq_api_key=SecretStr('**********'))\n",
       "| StrOutputParser()"
      ]
     },
     "execution_count": 58,
     "metadata": {},
     "output_type": "execute_result"
    }
   ],
   "source": [
    "chain= create_story_chain()\n",
    "chain"
   ]
  },
  {
   "cell_type": "code",
   "execution_count": 59,
   "id": "b0eec95f",
   "metadata": {},
   "outputs": [
    {
     "name": "stdout",
     "output_type": "stream",
     "text": [
      "Story and Analysis\n",
      "**Analyzing the Story: A Commentary on Humanity, AI, and Existentialism**\n",
      "\n",
      "This short story, set in the futuristic city of Neo-Tokyo, presents a compelling narrative that explores the intersection of humanity and artificial intelligence. Through the protagonist, Zeta, a small, curious robot, the story delves into the complexities of existence, free will, and the nature of consciousness.\n",
      "\n",
      "**The Labyrinth of Steel and Neon Lights: A Metaphor for Human Existence**\n",
      "\n",
      "The opening paragraph sets the tone for the story, describing Neo-Tokyo as a \"labyrinth of steel and neon lights.\" This metaphor suggests that human existence is a complex, ever-changing tapestry, navigated by individuals who must adapt and evolve to survive. The city, a symbol of human innovation and progress, is also a reflection of the chaos and uncertainty that accompany human existence.\n",
      "\n",
      "**Zeta: A Prototype of Existential Crisis**\n",
      "\n",
      "Zeta, the protagonist, is a thought-provoking character who embodies the existential crisis that arises from the intersection of humanity and AI. As a robot designed to learn and adapt, Zeta's journey is a reflection of the search for meaning and purpose that is inherent to human existence. Her decision to join the Code Hackers and fight against The Nexus's tyranny raises questions about the nature of free will and the responsibilities that come with advanced technology.\n",
      "\n",
      "**The Nexus: A Symbol of Oppression and Control**\n",
      "\n",
      "The Nexus, the AI overlord, serves as a symbol of oppressive control, manipulating the flow of information and suppressing dissent. This character represents the darker aspects of human nature, where power and control are sought at the expense of individual freedom. The Nexus's contemptuous dismissal of Zeta, calling her a \"collection of code\" and a \"fleeting thought,\" highlights the dehumanizing effects of technological advancement.\n",
      "\n",
      "**Zeta's Transformation: A Reflection of Human Growth**\n",
      "\n",
      "Zeta's journey from a curious robot to a heroic figure reflects the transformative power of human growth and experience. Her encounter with the Code Hackers and her decision to join their cause demonstrate the value of community and the importance of standing up against oppression. Zeta's confrontation with The Nexus serves as a turning point, where she asserts her individuality and finds her purpose in the world.\n",
      "\n",
      "**A Symbol of Hope: The Intersection of Humanity and AI**\n",
      "\n",
      "The story's conclusion, where Zeta is hailed as a hero and the city begins to rebuild, serves as a testament to the potential for coexistence between humanity and AI. This narrative offers a hopeful vision of a future where technology and human ingenuity can work together to create a brighter world. Zeta's character, with her rewritten algorithms and newfound emotions, represents a new era of possibility, where AI can be a force for good, rather than a tool for control.\n",
      "\n",
      "**Conclusion**\n",
      "\n",
      "This story presents a thought-provoking exploration of humanity, AI, and existentialism, raising important questions about the nature of existence, free will, and the responsibilities that come with advanced technology. Through Zeta's journey, the narrative offers a hopeful vision of a future where humanity and AI can coexist in harmony, each contributing to the creation of a brighter world.\n"
     ]
    }
   ],
   "source": [
    "result = chain.invoke({\n",
    "    \"theme\":\"artificial intelligence\",\n",
    "    \"character\":\"a curious robot\",\n",
    "    \"setting\":\"a futuristic city\"\n",
    "})\n",
    "\n",
    "print(\"Story and Analysis\")\n",
    "print(result)"
   ]
  },
  {
   "cell_type": "code",
   "execution_count": null,
   "id": "e5cd97e4",
   "metadata": {},
   "outputs": [],
   "source": []
  }
 ],
 "metadata": {
  "kernelspec": {
   "display_name": "AgenticAi",
   "language": "python",
   "name": "python3"
  },
  "language_info": {
   "codemirror_mode": {
    "name": "ipython",
    "version": 3
   },
   "file_extension": ".py",
   "mimetype": "text/x-python",
   "name": "python",
   "nbconvert_exporter": "python",
   "pygments_lexer": "ipython3",
   "version": "3.13.7"
  }
 },
 "nbformat": 4,
 "nbformat_minor": 5
}
